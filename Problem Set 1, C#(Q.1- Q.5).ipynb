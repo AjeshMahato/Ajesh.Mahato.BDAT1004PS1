{
 "cells": [
  {
   "cell_type": "markdown",
   "id": "4494f8f2",
   "metadata": {},
   "source": [
    "# Question 1 \n",
    "What data type is each of the following?  \n",
    "5  \n",
    "5.0  \n",
    "5>1  \n",
    "'5'  \n",
    "5*2  \n",
    "'5' * 2  \n",
    "'5' + '2'  \n",
    "5/2  \n",
    "5%2  \n",
    "{5, 2, 1}  \n",
    "5 == 3  \n",
    "Pi (the number)  \n"
   ]
  },
  {
   "cell_type": "code",
   "execution_count": 2,
   "id": "94ea64a8",
   "metadata": {},
   "outputs": [],
   "source": [
    "//1. 5  \n",
    "//Solution: Integer  \n",
    "//2. 5.0  \n",
    "//Solution: Float  \n",
    "//3. 5 > 1  \n",
    "//Solution: Boolean  \n",
    "//4. '5'  \n",
    "//Solution: char  \n",
    "//5. 5 * 2   \n",
    "//Solution: Integer  \n",
    "//6. '5' * 2  \n",
    "//Solution: Integer   \n",
    "//7. '5' + '2'  \n",
    "//Solution: String\n",
    "//8. 5 / 2  \n",
    "//Solution: Float\n",
    "//9. 5 % 2  \n",
    "//Solution: Integer  \n",
    "//10. {5, 2, 1}  \n",
    "//Solution: Array    \n",
    "//11. 5 == 3  \n",
    "//Solution: Boolean  \n",
    "//12. Pi (the number)  \n",
    "//Solution: Double"
   ]
  },
  {
   "cell_type": "markdown",
   "id": "a95f2218",
   "metadata": {},
   "source": [
    "# Question 2\n",
    "Write (and evaluate) C# expressions that answer these questions:  \n",
    "a. How many letters are there in 'Supercalifragilisticexpialidocious'?  \n",
    "b. Does 'Supercalifragilisticexpialidocious' contain 'ice' as a substring?  \n",
    "c. Which of the following words is the longest: Supercalifragilisticexpialidocious, Honorificabilitudinitatibus, or Bababadalgharaghtakamminarronnkonn?  \n",
    "d. Which composer comes first in the dictionary: 'Berlioz', 'Borodin', 'Brian', 'Bartok', 'Bellini', 'Buxtehude', 'Bernstein'. Which one comes last?  \n",
    "\n"
   ]
  },
  {
   "cell_type": "code",
   "execution_count": 5,
   "id": "843ce181",
   "metadata": {},
   "outputs": [
    {
     "name": "stdout",
     "output_type": "stream",
     "text": [
      "Number of letters: 34\n"
     ]
    }
   ],
   "source": [
    "//solution a\n",
    "\n",
    "string word = \"Supercalifragilisticexpialidocious\";\n",
    "int letterCount = word.Length;\n",
    "Console.WriteLine(\"Number of letters: \" + letterCount);"
   ]
  },
  {
   "cell_type": "code",
   "execution_count": 6,
   "id": "d4d359fa",
   "metadata": {},
   "outputs": [
    {
     "name": "stdout",
     "output_type": "stream",
     "text": [
      "Contains 'ice' as a substring: True\n"
     ]
    }
   ],
   "source": [
    "//solution b\n",
    "\n",
    "bool containsSubstring = word.Contains(\"ice\");\n",
    "Console.WriteLine(\"Contains 'ice' as a substring: \" + containsSubstring);\n",
    "\n",
    "\n"
   ]
  },
  {
   "cell_type": "code",
   "execution_count": 9,
   "id": "a66b23fe",
   "metadata": {},
   "outputs": [
    {
     "name": "stdout",
     "output_type": "stream",
     "text": [
      "Supercalifragilisticexpialidocious is the longest with length 34\n",
      "Bababadalgharaghtakamminarronnkonn is the longest with length 34\n",
      "There are a total of 2 string with length 34\n"
     ]
    }
   ],
   "source": [
    "//solution c\n",
    "\n",
    "string str1 = \"Supercalifragilisticexpialidocious\";\n",
    "string str2 = \"Honorificabilitudinitatibus\";\n",
    "string str3 = \"Bababadalgharaghtakamminarronnkonn\";\n",
    "int max =0;    \n",
    "int count = 0; \n",
    "string[] strings = {str1, str2, str3};\n",
    "foreach (string str in strings)\n",
    "{\n",
    "    if(str.Length > max) \n",
    "    {\n",
    "        max = str.Length; \n",
    "    }\n",
    "}\n",
    "\n",
    "foreach(string str in strings)\n",
    "{\n",
    "    if(str.Length == max)\n",
    "    {\n",
    "        Console.WriteLine($\"{str} is the longest with length {max}\");\n",
    "        count ++;\n",
    "    } \n",
    "}\n",
    "Console.WriteLine($\"There are a total of {count} string with length {max}\");\n"
   ]
  },
  {
   "cell_type": "code",
   "execution_count": 8,
   "id": "e6d38cc5",
   "metadata": {},
   "outputs": [
    {
     "name": "stdout",
     "output_type": "stream",
     "text": [
      "First composer: Bartok\n",
      "Last composer: Buxtehude\n"
     ]
    }
   ],
   "source": [
    "//solution d\n",
    "\n",
    "string[] composers = { \"Berlioz\", \"Borodin\", \"Brian\", \"Bartok\", \"Bellini\", \"Buxtehude\", \"Bernstein\" };\n",
    "string firstComposer = composers.OrderBy(c => c).First();\n",
    "string lastComposer = composers.OrderByDescending(c => c).First();\n",
    "Console.WriteLine(\"First composer: \" + firstComposer);\n",
    "Console.WriteLine(\"Last composer: \" + lastComposer);\n"
   ]
  },
  {
   "cell_type": "markdown",
   "id": "8724f1c8",
   "metadata": {},
   "source": [
    "# Question 3\n",
    "Implement function triangleArea(a,b,c) that takes as input the lengths of the 3 sides of a triangle and returns the area of the triangle. By Heron's formula, the area of a triangle with side lengths a, b, and c is   s(s − a)(s − b)(s − c), where  \n",
    "Question 3 C#  \n",
    "s = (a + b + c)/2.  \n",
    "..>>> triangleArea(2,2,2)  \n",
    "1. 7320508075688772   \n"
   ]
  },
  {
   "cell_type": "code",
   "execution_count": 17,
   "id": "6321f943",
   "metadata": {},
   "outputs": [
    {
     "name": "stdout",
     "output_type": "stream",
     "text": [
      "1.7320508075688772\n"
     ]
    }
   ],
   "source": [
    "//solution 3\n",
    "\n",
    "double triangleArea(double a, double b, double c)\n",
    "    {\n",
    "        // This Calculate the semi-perimeter\n",
    "        double s = (a + b + c) / 2;\n",
    "\n",
    "        // This Calculate the area using Heron's formula\n",
    "        double area = Math.Sqrt(s * (s - a) * (s - b) * (s - c));\n",
    "\n",
    "        return area;\n",
    "    }\n",
    "    \n",
    "double area=triangleArea(2,2,2);\n",
    "Console.WriteLine(area);"
   ]
  },
  {
   "cell_type": "markdown",
   "id": "124af05d",
   "metadata": {},
   "source": [
    "# Question 4\n",
    "Write a program in C# Sharp to separate odd and even integers in separate arrays. Go to the editor  \n",
    "Test Data :  \n",
    "Input the number of elements to be stored in the array :5  \n",
    "Input 5 elements in the array : element - 0 : 25  \n",
    "element - 1 : 47  \n",
    "element - 2 : 42  \n",
    "element - 3 : 56 element - 4 : 32 Expected Output:  \n",
    "The Even elements are: 42 56 32  \n",
    "The Odd elements are : 25 47  \n",
    "\n"
   ]
  },
  {
   "cell_type": "code",
   "execution_count": 24,
   "id": "6d576a0c",
   "metadata": {},
   "outputs": [
    {
     "name": "stdout",
     "output_type": "stream",
     "text": [
      "The Even Numbers are :\n",
      "54\n",
      "56\n",
      "32\n",
      "98\n",
      "100\n",
      "The Odd Numbers are :\n",
      "55\n",
      "57\n",
      "31\n",
      "45\n",
      "69\n"
     ]
    }
   ],
   "source": [
    "\n",
    "        int[] num = { 54, 55, 56, 57, 31, 45, 32, 98, 69, 100 };\n",
    "        int[] eNum = new int[num.Length];\n",
    "        int[] oNum = new int[num.Length];\n",
    "        int eCount = 0;\n",
    "        int oCount = 0;\n",
    "\n",
    " \n",
    "\n",
    "        foreach (int number in num)\n",
    "        {\n",
    "            if (number % 2 == 0)\n",
    "            {\n",
    "                eNum[eCount] = number;\n",
    "                eCount++;\n",
    "            }\n",
    "            else\n",
    "            {\n",
    "                oNum[oCount] = number;\n",
    "                oCount++;\n",
    "            }\n",
    "        }\n",
    "\n",
    " \n",
    "\n",
    "        Console.WriteLine(\"The Even Numbers are :\");\n",
    "        for (int i = 0; i < eCount; i++)\n",
    "        {\n",
    "            Console.WriteLine(eNum[i]);\n",
    "        }\n",
    "\n",
    " \n",
    "\n",
    "        Console.WriteLine(\"The Odd Numbers are :\");\n",
    "        for (int i = 0; i < oCount; i++)\n",
    "        {\n",
    "            Console.WriteLine(oNum[i]);\n",
    "        }\n",
    "\n",
    "\n",
    "      "
   ]
  },
  {
   "cell_type": "markdown",
   "id": "ed476d83",
   "metadata": {},
   "source": [
    "# Question 5   \n",
    "a. Write a function i nsi de( x, y, x1, y1, x2, y2) that returns True or False   dependingonwhetherthepoint(x,y)liesintherectanglewithlowerleft corner (x1,y1) and upper right corner (x2,y2).  \n",
    "..>>> inside(1,1,0,0,2,3) True  \n",
    "..>>> inside(-1,-1,0,0,2,3) False  \n",
    "b. Use function inside() from part a. to write an expression that tests whether the point (1,1) lies in both of the following rectangles: one with lower left corner (0.3, 0.5) and upper right corner (1.1, 0.7) and the other with lower left corner (0.5, 0.2) and upper right corner (1.1, 2)"
   ]
  },
  {
   "cell_type": "code",
   "execution_count": 3,
   "id": "9ecbca69",
   "metadata": {},
   "outputs": [
    {
     "name": "stdout",
     "output_type": "stream",
     "text": [
      "Is the point inside rectangle : True\n",
      "Is the point inside rectangle : False\n",
      "Is the point in both rectangles? : False\n"
     ]
    }
   ],
   "source": [
    "// 5A\n",
    "bool query1 = inside(1, 1, 0, 0, 2, 3);\n",
    "Console.WriteLine(\"Is the point inside rectangle : \" + query1);\n",
    "bool query2 = inside(-1, -1, 0, 0, 2, 3);\n",
    "Console.WriteLine(\"Is the point inside rectangle : \" + query2);\n",
    "\n",
    "// 5B\n",
    "bool checkInside1 = inside(1, 1, 0.3, 0.5, 1.1, 0.7);\n",
    "bool checkInside2 = inside(1, 1, 0.5, 0.2, 1.1, 2);\n",
    "bool checkInside = checkInside1 && checkInside2;\n",
    "Console.WriteLine(\"Is the point in both rectangles? : \" + checkInside);\n",
    "\n",
    "static bool inside(double x, double y, double x1, double y1, double x2, double y2)\n",
    "{\n",
    "    if (x >= x1 && x <= x2 && y >= y1 && y <= y2)\n",
    "    {\n",
    "        return true;\n",
    "    }\n",
    "    else\n",
    "    {\n",
    "        return false;\n",
    "    }\n",
    "}"
   ]
  }
 ],
 "metadata": {
  "kernelspec": {
   "display_name": ".NET (C#)",
   "language": "C#",
   "name": ".net-csharp"
  },
  "language_info": {
   "file_extension": ".cs",
   "mimetype": "text/x-csharp",
   "name": "C#",
   "pygments_lexer": "csharp",
   "version": "11.0"
  }
 },
 "nbformat": 4,
 "nbformat_minor": 5
}
